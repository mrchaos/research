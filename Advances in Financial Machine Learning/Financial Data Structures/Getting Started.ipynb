{
 "cells": [
  {
   "cell_type": "markdown",
   "metadata": {},
   "source": [
    "# Create Financial Data Structures: mlfinlab\n",
    "\n",
    "The purpose of this notebook is to act as a tutorial to bridge the gap between idea and implementation. In particular we will be looking at how to create the various financial data structures and how to format your data so that you can make use of the mlfinlab package.\n",
    "\n",
    "For this tutorial we made use of the sample data provided by TickWrite LLC. Using S&P500 E-mini futures. https://s3-us-west-2.amazonaws.com/tick-data-s3/downloads/ES_Sample.zip\n",
    "\n",
    "Note: we have also included the zip file in this repo as ES_Trades.csv.zip. You will need to unzip this file to use it in this notebook."
   ]
  },
  {
   "cell_type": "code",
   "execution_count": 1,
   "metadata": {},
   "outputs": [],
   "source": [
    "import mlfinlab as ml\n",
    "\n",
    "import numpy as np\n",
    "import pandas as pd\n",
    "from scipy import stats\n",
    "import seaborn as sns\n",
    "from statsmodels.graphics.tsaplots import plot_acf\n",
    "import matplotlib.pyplot as plt\n",
    "\n",
    "%matplotlib inline"
   ]
  },
  {
   "cell_type": "code",
   "execution_count": 2,
   "metadata": {},
   "outputs": [
    {
     "data": {
      "text/html": [
       "<div>\n",
       "<style scoped>\n",
       "    .dataframe tbody tr th:only-of-type {\n",
       "        vertical-align: middle;\n",
       "    }\n",
       "\n",
       "    .dataframe tbody tr th {\n",
       "        vertical-align: top;\n",
       "    }\n",
       "\n",
       "    .dataframe thead th {\n",
       "        text-align: right;\n",
       "    }\n",
       "</style>\n",
       "<table border=\"1\" class=\"dataframe\">\n",
       "  <thead>\n",
       "    <tr style=\"text-align: right;\">\n",
       "      <th></th>\n",
       "      <th>Symbol</th>\n",
       "      <th>Date</th>\n",
       "      <th>Time</th>\n",
       "      <th>Price</th>\n",
       "      <th>Volume</th>\n",
       "      <th>Market Flag</th>\n",
       "      <th>Sales Condition</th>\n",
       "      <th>Exclude Record Flag</th>\n",
       "      <th>Unfiltered Price</th>\n",
       "    </tr>\n",
       "  </thead>\n",
       "  <tbody>\n",
       "    <tr>\n",
       "      <th>0</th>\n",
       "      <td>ESU13</td>\n",
       "      <td>09/01/2013</td>\n",
       "      <td>17:00:00.083</td>\n",
       "      <td>1640.25</td>\n",
       "      <td>8</td>\n",
       "      <td>E</td>\n",
       "      <td>0</td>\n",
       "      <td>NaN</td>\n",
       "      <td>1640.25</td>\n",
       "    </tr>\n",
       "    <tr>\n",
       "      <th>1</th>\n",
       "      <td>ESU13</td>\n",
       "      <td>09/01/2013</td>\n",
       "      <td>17:00:00.083</td>\n",
       "      <td>1640.25</td>\n",
       "      <td>1</td>\n",
       "      <td>E</td>\n",
       "      <td>0</td>\n",
       "      <td>NaN</td>\n",
       "      <td>1640.25</td>\n",
       "    </tr>\n",
       "    <tr>\n",
       "      <th>2</th>\n",
       "      <td>ESU13</td>\n",
       "      <td>09/01/2013</td>\n",
       "      <td>17:00:00.083</td>\n",
       "      <td>1640.25</td>\n",
       "      <td>2</td>\n",
       "      <td>E</td>\n",
       "      <td>0</td>\n",
       "      <td>NaN</td>\n",
       "      <td>1640.25</td>\n",
       "    </tr>\n",
       "    <tr>\n",
       "      <th>3</th>\n",
       "      <td>ESU13</td>\n",
       "      <td>09/01/2013</td>\n",
       "      <td>17:00:00.083</td>\n",
       "      <td>1640.25</td>\n",
       "      <td>1</td>\n",
       "      <td>E</td>\n",
       "      <td>0</td>\n",
       "      <td>NaN</td>\n",
       "      <td>1640.25</td>\n",
       "    </tr>\n",
       "    <tr>\n",
       "      <th>4</th>\n",
       "      <td>ESU13</td>\n",
       "      <td>09/01/2013</td>\n",
       "      <td>17:00:00.083</td>\n",
       "      <td>1640.25</td>\n",
       "      <td>1</td>\n",
       "      <td>E</td>\n",
       "      <td>0</td>\n",
       "      <td>NaN</td>\n",
       "      <td>1640.25</td>\n",
       "    </tr>\n",
       "  </tbody>\n",
       "</table>\n",
       "</div>"
      ],
      "text/plain": [
       "  Symbol        Date          Time    Price  Volume Market Flag  \\\n",
       "0  ESU13  09/01/2013  17:00:00.083  1640.25       8           E   \n",
       "1  ESU13  09/01/2013  17:00:00.083  1640.25       1           E   \n",
       "2  ESU13  09/01/2013  17:00:00.083  1640.25       2           E   \n",
       "3  ESU13  09/01/2013  17:00:00.083  1640.25       1           E   \n",
       "4  ESU13  09/01/2013  17:00:00.083  1640.25       1           E   \n",
       "\n",
       "   Sales Condition  Exclude Record Flag  Unfiltered Price  \n",
       "0                0                  NaN           1640.25  \n",
       "1                0                  NaN           1640.25  \n",
       "2                0                  NaN           1640.25  \n",
       "3                0                  NaN           1640.25  \n",
       "4                0                  NaN           1640.25  "
      ]
     },
     "execution_count": 2,
     "metadata": {},
     "output_type": "execute_result"
    }
   ],
   "source": [
    "# Read data\n",
    "data = pd.read_csv('./tutorial_data/ES_Trades/ES_Trades.csv')\n",
    "data.head()"
   ]
  },
  {
   "cell_type": "markdown",
   "metadata": {},
   "source": [
    "--- \n",
    "\n",
    "## Format Data\n",
    "\n",
    "Many data vendors will let you choose the format of your raw tick data files. We want to only focus on the following 3 columns: date_time, price, volume. The reason for this is to minimise the size of the csv files and the amount of time when reading in the files.\n",
    "\n",
    "Our data is sourced from TickData LLC which provide TickWrite 7, to aid in the formatting of saved files. This allows us to save csv files in the format date_time, price, volume.\n",
    "\n",
    "For this tutorial we will assume that you need to first do some preprocessing and then save your data to a csv file."
   ]
  },
  {
   "cell_type": "code",
   "execution_count": 3,
   "metadata": {},
   "outputs": [
    {
     "name": "stdout",
     "output_type": "stream",
     "text": [
      "                      date    price  volume\n",
      "0  09/01/2013 17:00:00.083  1640.25       8\n",
      "1  09/01/2013 17:00:00.083  1640.25       1\n",
      "2  09/01/2013 17:00:00.083  1640.25       2\n",
      "3  09/01/2013 17:00:00.083  1640.25       1\n",
      "4  09/01/2013 17:00:00.083  1640.25       1\n",
      "\n",
      "\n",
      "Rows: 5454950\n"
     ]
    }
   ],
   "source": [
    "# Format the Data\n",
    "date_time = data['Date'] + ' ' + data['Time'] # Dont convert to datetime here, it will take forever to convert.\n",
    "new_data = pd.concat([date_time, data['Price'], data['Volume']], axis=1)\n",
    "new_data.columns = ['date', 'price', 'volume']\n",
    "print(new_data.head())\n",
    "print('\\n')\n",
    "print('Rows:', new_data.shape[0])"
   ]
  },
  {
   "cell_type": "markdown",
   "metadata": {},
   "source": [
    "### Save to csv\n",
    "\n",
    "Initially, your instinct may be to pass mlfinlab package an in-memory DataFrame object but the truth is when you're running the function in production, your raw tick data csv files will be way too large to hold in memory. We used the subset 2011 to 2019 and it was more than 25 gigs. It is for this reason that the mlfinlab package requires a file path to read the raw data files from disk."
   ]
  },
  {
   "cell_type": "code",
   "execution_count": 4,
   "metadata": {},
   "outputs": [],
   "source": [
    "# Save to csv\n",
    "new_data.to_csv('./tutorial_data/raw_tick_data.csv', index=False)"
   ]
  },
  {
   "cell_type": "markdown",
   "metadata": {},
   "source": [
    "---\n",
    "\n",
    "## Use mlfinlab: Create Data Structures\n",
    "Next we create the various data structures. In this example we focus on the standard bar types but the information driven bars are also available."
   ]
  },
  {
   "cell_type": "code",
   "execution_count": 6,
   "metadata": {},
   "outputs": [
    {
     "name": "stdout",
     "output_type": "stream",
     "text": [
      "Creating Dollar Bars\n",
      "Reading data in batches:\n",
      "Batch number: 0\n",
      "Batch number: 1\n",
      "Batch number: 2\n",
      "Batch number: 3\n",
      "Batch number: 4\n",
      "Batch number: 5\n",
      "Returning bars \n",
      "\n",
      "Creating Volume Bars\n",
      "Reading data in batches:\n",
      "Batch number: 0\n",
      "Batch number: 1\n",
      "Batch number: 2\n",
      "Batch number: 3\n",
      "Batch number: 4\n",
      "Batch number: 5\n",
      "Returning bars \n",
      "\n",
      "Creating Tick Bars\n",
      "Reading data in batches:\n",
      "Batch number: 0\n",
      "Batch number: 1\n",
      "Batch number: 2\n",
      "Batch number: 3\n",
      "Batch number: 4\n",
      "Batch number: 5\n",
      "Returning bars \n",
      "\n",
      "Creating Time Bars\n",
      "Reading data in batches:\n",
      "Batch number: 0\n",
      "Batch number: 1\n",
      "Batch number: 2\n",
      "Batch number: 3\n",
      "Batch number: 4\n",
      "Batch number: 5\n",
      "Returning bars \n",
      "\n"
     ]
    }
   ],
   "source": [
    "print('Creating Dollar Bars')\n",
    "dollar = ml.data_structures.get_dollar_bars('./tutorial_data/raw_tick_data.csv',\n",
    "                                            threshold=70_000_000,\n",
    "                                            batch_size=1_000_000,\n",
    "                                            verbose=True,\n",
    "                                            to_csv=True,\n",
    "                                            output_path='./tutorial_data/dollar_bars.csv')\n",
    "print('Creating Volume Bars')\n",
    "volume = ml.data_structures.get_volume_bars('./tutorial_data/raw_tick_data.csv',\n",
    "                                            threshold=28_000,\n",
    "                                            batch_size=1_000_000,\n",
    "                                            verbose=True,\n",
    "                                            to_csv=True,\n",
    "                                            output_path='./tutorial_data/volume_bars.csv')\n",
    "print('Creating Tick Bars')\n",
    "tick = ml.data_structures.get_tick_bars('./tutorial_data/raw_tick_data.csv',\n",
    "                                          threshold=5_500,\n",
    "                                          batch_size=1_000_000,\n",
    "                                          verbose=True,\n",
    "                                          to_csv=True,\n",
    "                                          output_path='./tutorial_data/tick_bars.csv')\n",
    "\n",
    "print('Creating Time Bars')\n",
    "time = ml.data_structures.get_time_bars('./tutorial_data/raw_tick_data.csv',\n",
    "                                              resolution='MIN',\n",
    "                                              num_units=30,\n",
    "                                              batch_size=1_000_000,\n",
    "                                              verbose=True,\n",
    "                                              to_csv=True,\n",
    "                                              output_path='./tutorial_data/time_bars.csv')"
   ]
  },
  {
   "cell_type": "markdown",
   "metadata": {},
   "source": [
    "### Out of Memory?\n",
    "In the event that your dollar bars DataFrame is too large to fit into memory, you will need to save them to a csv file. Simply uncomment the code below to do so."
   ]
  },
  {
   "cell_type": "code",
   "execution_count": 7,
   "metadata": {},
   "outputs": [
    {
     "name": "stdout",
     "output_type": "stream",
     "text": [
      "Creating Dollar Bars\n",
      "Creating Volume Bars\n",
      "Creating Tick Bars\n"
     ]
    }
   ],
   "source": [
    "print('Creating Dollar Bars')\n",
    "# dollar = ml.data_structures.get_dollar_bars('tutorial_data/raw_tick_data.csv', threshold=70000000, batch_size=1000000, verbose=False, to_csv=True, output_path='./tutorial_data/dollar_bars.csv')\n",
    "\n",
    "print('Creating Volume Bars')\n",
    "# volume = ml.data_structures.get_volume_bars('tutorial_data/raw_tick_data.csv', threshold=28000, batch_size=1000000, verbose=False, to_csv=True, output_path='./tutorial_data/volume_bars.csv')\n",
    "\n",
    "print('Creating Tick Bars')\n",
    "# tick = ml.data_structures.get_tick_bars('tutorial_data/raw_tick_data.csv', threshold=5500, batch_size=1000000, verbose=False, to_csv=True, output_path='./tutorial_data/tick_bars.csv')"
   ]
  },
  {
   "cell_type": "markdown",
   "metadata": {},
   "source": [
    "### Load bar data"
   ]
  },
  {
   "cell_type": "code",
   "execution_count": 16,
   "metadata": {},
   "outputs": [],
   "source": [
    "# Read from csv\n",
    "time_bars = pd.read_csv('./tutorial_data/time_bars.csv', index_col=0, parse_dates=True)\n",
    "dollar_bars = pd.read_csv('./tutorial_data/dollar_bars.csv', index_col=0, parse_dates=True)\n",
    "volume_bars = pd.read_csv('./tutorial_data/volume_bars.csv', index_col=0, parse_dates=True)\n",
    "tick_bars = pd.read_csv('./tutorial_data/tick_bars.csv', index_col=0, parse_dates=True)"
   ]
  },
  {
   "cell_type": "markdown",
   "metadata": {},
   "source": [
    "### Confirm Sampling:\n",
    "\n",
    "The following cell confrims the sampling techniques are working at the desired thresholds."
   ]
  },
  {
   "cell_type": "code",
   "execution_count": 17,
   "metadata": {},
   "outputs": [
    {
     "data": {
      "text/html": [
       "<div>\n",
       "<style scoped>\n",
       "    .dataframe tbody tr th:only-of-type {\n",
       "        vertical-align: middle;\n",
       "    }\n",
       "\n",
       "    .dataframe tbody tr th {\n",
       "        vertical-align: top;\n",
       "    }\n",
       "\n",
       "    .dataframe thead th {\n",
       "        text-align: right;\n",
       "    }\n",
       "</style>\n",
       "<table border=\"1\" class=\"dataframe\">\n",
       "  <thead>\n",
       "    <tr style=\"text-align: right;\">\n",
       "      <th></th>\n",
       "      <th>tick_num</th>\n",
       "      <th>open</th>\n",
       "      <th>high</th>\n",
       "      <th>low</th>\n",
       "      <th>close</th>\n",
       "      <th>volume</th>\n",
       "      <th>cum_buy_volume</th>\n",
       "      <th>cum_ticks</th>\n",
       "      <th>cum_dollar_value</th>\n",
       "      <th>value</th>\n",
       "    </tr>\n",
       "    <tr>\n",
       "      <th>date_time</th>\n",
       "      <th></th>\n",
       "      <th></th>\n",
       "      <th></th>\n",
       "      <th></th>\n",
       "      <th></th>\n",
       "      <th></th>\n",
       "      <th></th>\n",
       "      <th></th>\n",
       "      <th></th>\n",
       "      <th></th>\n",
       "    </tr>\n",
       "  </thead>\n",
       "  <tbody>\n",
       "    <tr>\n",
       "      <th>2013-09-01 21:34:39.298</th>\n",
       "      <td>11207</td>\n",
       "      <td>1640.25</td>\n",
       "      <td>1643.5</td>\n",
       "      <td>1639.00</td>\n",
       "      <td>1640.75</td>\n",
       "      <td>42862</td>\n",
       "      <td>21896</td>\n",
       "      <td>11207</td>\n",
       "      <td>70347610.00</td>\n",
       "      <td>70325826.5</td>\n",
       "    </tr>\n",
       "    <tr>\n",
       "      <th>2013-09-02 02:56:24.209</th>\n",
       "      <td>26547</td>\n",
       "      <td>1640.75</td>\n",
       "      <td>1646.0</td>\n",
       "      <td>1640.25</td>\n",
       "      <td>1644.50</td>\n",
       "      <td>42585</td>\n",
       "      <td>24320</td>\n",
       "      <td>15340</td>\n",
       "      <td>70000546.50</td>\n",
       "      <td>70031032.5</td>\n",
       "    </tr>\n",
       "    <tr>\n",
       "      <th>2013-09-02 06:37:33.128</th>\n",
       "      <td>40473</td>\n",
       "      <td>1644.50</td>\n",
       "      <td>1647.5</td>\n",
       "      <td>1644.25</td>\n",
       "      <td>1647.50</td>\n",
       "      <td>42580</td>\n",
       "      <td>23167</td>\n",
       "      <td>13926</td>\n",
       "      <td>70095794.25</td>\n",
       "      <td>70150550.0</td>\n",
       "    </tr>\n",
       "    <tr>\n",
       "      <th>2013-09-02 09:34:46.141</th>\n",
       "      <td>51328</td>\n",
       "      <td>1647.50</td>\n",
       "      <td>1648.5</td>\n",
       "      <td>1645.25</td>\n",
       "      <td>1647.00</td>\n",
       "      <td>42535</td>\n",
       "      <td>23904</td>\n",
       "      <td>10855</td>\n",
       "      <td>70053015.75</td>\n",
       "      <td>70055145.0</td>\n",
       "    </tr>\n",
       "    <tr>\n",
       "      <th>2013-09-02 22:55:20.297</th>\n",
       "      <td>64261</td>\n",
       "      <td>1647.00</td>\n",
       "      <td>1648.5</td>\n",
       "      <td>1645.25</td>\n",
       "      <td>1648.00</td>\n",
       "      <td>42512</td>\n",
       "      <td>23884</td>\n",
       "      <td>12933</td>\n",
       "      <td>70024910.50</td>\n",
       "      <td>70059776.0</td>\n",
       "    </tr>\n",
       "  </tbody>\n",
       "</table>\n",
       "</div>"
      ],
      "text/plain": [
       "                         tick_num     open    high      low    close  volume  \\\n",
       "date_time                                                                      \n",
       "2013-09-01 21:34:39.298     11207  1640.25  1643.5  1639.00  1640.75   42862   \n",
       "2013-09-02 02:56:24.209     26547  1640.75  1646.0  1640.25  1644.50   42585   \n",
       "2013-09-02 06:37:33.128     40473  1644.50  1647.5  1644.25  1647.50   42580   \n",
       "2013-09-02 09:34:46.141     51328  1647.50  1648.5  1645.25  1647.00   42535   \n",
       "2013-09-02 22:55:20.297     64261  1647.00  1648.5  1645.25  1648.00   42512   \n",
       "\n",
       "                         cum_buy_volume  cum_ticks  cum_dollar_value  \\\n",
       "date_time                                                              \n",
       "2013-09-01 21:34:39.298           21896      11207       70347610.00   \n",
       "2013-09-02 02:56:24.209           24320      15340       70000546.50   \n",
       "2013-09-02 06:37:33.128           23167      13926       70095794.25   \n",
       "2013-09-02 09:34:46.141           23904      10855       70053015.75   \n",
       "2013-09-02 22:55:20.297           23884      12933       70024910.50   \n",
       "\n",
       "                              value  \n",
       "date_time                            \n",
       "2013-09-01 21:34:39.298  70325826.5  \n",
       "2013-09-02 02:56:24.209  70031032.5  \n",
       "2013-09-02 06:37:33.128  70150550.0  \n",
       "2013-09-02 09:34:46.141  70055145.0  \n",
       "2013-09-02 22:55:20.297  70059776.0  "
      ]
     },
     "execution_count": 17,
     "metadata": {},
     "output_type": "execute_result"
    }
   ],
   "source": [
    "# Confirm the dollar sampling\n",
    "dollar_bars['value'] = dollar_bars['close'] * dollar_bars['volume']\n",
    "dollar_bars.head()"
   ]
  },
  {
   "cell_type": "code",
   "execution_count": 18,
   "metadata": {},
   "outputs": [
    {
     "data": {
      "text/html": [
       "<div>\n",
       "<style scoped>\n",
       "    .dataframe tbody tr th:only-of-type {\n",
       "        vertical-align: middle;\n",
       "    }\n",
       "\n",
       "    .dataframe tbody tr th {\n",
       "        vertical-align: top;\n",
       "    }\n",
       "\n",
       "    .dataframe thead th {\n",
       "        text-align: right;\n",
       "    }\n",
       "</style>\n",
       "<table border=\"1\" class=\"dataframe\">\n",
       "  <thead>\n",
       "    <tr style=\"text-align: right;\">\n",
       "      <th></th>\n",
       "      <th>tick_num</th>\n",
       "      <th>open</th>\n",
       "      <th>high</th>\n",
       "      <th>low</th>\n",
       "      <th>close</th>\n",
       "      <th>volume</th>\n",
       "      <th>cum_buy_volume</th>\n",
       "      <th>cum_ticks</th>\n",
       "      <th>cum_dollar_value</th>\n",
       "    </tr>\n",
       "    <tr>\n",
       "      <th>date_time</th>\n",
       "      <th></th>\n",
       "      <th></th>\n",
       "      <th></th>\n",
       "      <th></th>\n",
       "      <th></th>\n",
       "      <th></th>\n",
       "      <th></th>\n",
       "      <th></th>\n",
       "      <th></th>\n",
       "    </tr>\n",
       "  </thead>\n",
       "  <tbody>\n",
       "    <tr>\n",
       "      <th>2013-09-01 19:32:23.387</th>\n",
       "      <td>7171</td>\n",
       "      <td>1640.25</td>\n",
       "      <td>1642.00</td>\n",
       "      <td>1639.00</td>\n",
       "      <td>1642.00</td>\n",
       "      <td>28031</td>\n",
       "      <td>15442</td>\n",
       "      <td>7171</td>\n",
       "      <td>45991914.75</td>\n",
       "    </tr>\n",
       "    <tr>\n",
       "      <th>2013-09-02 01:18:21.928</th>\n",
       "      <td>16133</td>\n",
       "      <td>1642.00</td>\n",
       "      <td>1644.00</td>\n",
       "      <td>1640.25</td>\n",
       "      <td>1643.50</td>\n",
       "      <td>28003</td>\n",
       "      <td>14566</td>\n",
       "      <td>8962</td>\n",
       "      <td>45992828.50</td>\n",
       "    </tr>\n",
       "    <tr>\n",
       "      <th>2013-09-02 02:50:32.992</th>\n",
       "      <td>25976</td>\n",
       "      <td>1643.50</td>\n",
       "      <td>1646.00</td>\n",
       "      <td>1642.25</td>\n",
       "      <td>1644.75</td>\n",
       "      <td>28000</td>\n",
       "      <td>15550</td>\n",
       "      <td>9843</td>\n",
       "      <td>46039902.25</td>\n",
       "    </tr>\n",
       "    <tr>\n",
       "      <th>2013-09-02 04:57:09.236</th>\n",
       "      <td>35968</td>\n",
       "      <td>1644.75</td>\n",
       "      <td>1647.25</td>\n",
       "      <td>1643.75</td>\n",
       "      <td>1646.00</td>\n",
       "      <td>28000</td>\n",
       "      <td>14211</td>\n",
       "      <td>9992</td>\n",
       "      <td>46082594.25</td>\n",
       "    </tr>\n",
       "    <tr>\n",
       "      <th>2013-09-02 07:04:32.076</th>\n",
       "      <td>43461</td>\n",
       "      <td>1646.00</td>\n",
       "      <td>1648.50</td>\n",
       "      <td>1645.75</td>\n",
       "      <td>1647.50</td>\n",
       "      <td>28013</td>\n",
       "      <td>17300</td>\n",
       "      <td>7493</td>\n",
       "      <td>46139513.25</td>\n",
       "    </tr>\n",
       "  </tbody>\n",
       "</table>\n",
       "</div>"
      ],
      "text/plain": [
       "                         tick_num     open     high      low    close  volume  \\\n",
       "date_time                                                                       \n",
       "2013-09-01 19:32:23.387      7171  1640.25  1642.00  1639.00  1642.00   28031   \n",
       "2013-09-02 01:18:21.928     16133  1642.00  1644.00  1640.25  1643.50   28003   \n",
       "2013-09-02 02:50:32.992     25976  1643.50  1646.00  1642.25  1644.75   28000   \n",
       "2013-09-02 04:57:09.236     35968  1644.75  1647.25  1643.75  1646.00   28000   \n",
       "2013-09-02 07:04:32.076     43461  1646.00  1648.50  1645.75  1647.50   28013   \n",
       "\n",
       "                         cum_buy_volume  cum_ticks  cum_dollar_value  \n",
       "date_time                                                             \n",
       "2013-09-01 19:32:23.387           15442       7171       45991914.75  \n",
       "2013-09-02 01:18:21.928           14566       8962       45992828.50  \n",
       "2013-09-02 02:50:32.992           15550       9843       46039902.25  \n",
       "2013-09-02 04:57:09.236           14211       9992       46082594.25  \n",
       "2013-09-02 07:04:32.076           17300       7493       46139513.25  "
      ]
     },
     "execution_count": 18,
     "metadata": {},
     "output_type": "execute_result"
    }
   ],
   "source": [
    "volume_bars.head()"
   ]
  },
  {
   "cell_type": "markdown",
   "metadata": {},
   "source": [
    "---\n",
    "## Analyze Statistical Properties\n",
    "\n",
    "Now we turn to analyze the statistical properties of the new data structures. For this exercise we have included csv files of the data types."
   ]
  },
  {
   "cell_type": "markdown",
   "metadata": {},
   "source": [
    "### Measure Stability"
   ]
  },
  {
   "cell_type": "code",
   "execution_count": 20,
   "metadata": {
    "scrolled": true
   },
   "outputs": [],
   "source": [
    "# Downsample to weekly periods\n",
    "time_count = time_bars['close'].resample('W', label='right').count()\n",
    "tick_count = tick_bars['close'].resample('W', label='right').count()\n",
    "volume_count = volume_bars['close'].resample('W', label='right').count()\n",
    "dollar_count = dollar_bars['close'].resample('W', label='right').count()\n",
    "\n",
    "count_df = pd.concat([time_count, tick_count, volume_count, dollar_count], axis=1)\n",
    "count_df.columns = ['time', 'tick', 'volume', 'dollar']"
   ]
  },
  {
   "cell_type": "code",
   "execution_count": 21,
   "metadata": {},
   "outputs": [
    {
     "data": {
      "image/png": "[encoded data removed]",
      "text/plain": [
       "<Figure size 1800x360 with 1 Axes>"
      ]
     },
     "metadata": {
      "needs_background": "light"
     },
     "output_type": "display_data"
    }
   ],
   "source": [
    "# Plot Number of Bars Over Time\n",
    "count_df.loc[:, ['time', 'tick', 'volume', 'dollar']].plot(kind='bar', figsize=[25, 5], color=('darkred', 'darkblue', 'green', 'darkcyan'))\n",
    "plt.title('Number of bars over time', loc='center', fontsize=20, fontweight=\"bold\", fontname=\"Times New Roman\")\n",
    "plt.xticks(rotation=0)\n",
    "plt.show()"
   ]
  },
  {
   "cell_type": "markdown",
   "metadata": {},
   "source": [
    "This stability test will work better on your own tick data over a much longer period. This sample only contains 20 days.\n",
    "\n",
    "### Partial Return to Normality"
   ]
  },
  {
   "cell_type": "code",
   "execution_count": 26,
   "metadata": {},
   "outputs": [],
   "source": [
    "# Calculate log returns\n",
    "time_returns = np.log(time_bars['close']).diff().dropna()\n",
    "tick_returns = np.log(tick_bars['close']).diff().dropna()\n",
    "volume_returns = np.log(volume_bars['close']).diff().dropna()\n",
    "dollar_returns = np.log(dollar_bars['close']).diff().dropna()\n",
    "norm_dist = np.random.normal(0,0.1,10000)"
   ]
  },
  {
   "cell_type": "code",
   "execution_count": 28,
   "metadata": {},
   "outputs": [
    {
     "name": "stdout",
     "output_type": "stream",
     "text": [
      "Test Statistics: (jarque-bera value, p-value)\n",
      "Time: \t (23040.91302523319, 0.0)\n",
      "Tick: \t (12151.451482641653, 0.0)\n",
      "Volume:  (9107.044443544652, 0.0)\n",
      "Dollar:  (5931.62812501079, 0.0)\n",
      "Norm dist: \t (0.5923418385445065, 0.7436603112779313)\n"
     ]
    }
   ],
   "source": [
    "print('Test Statistics: (jarque-bera value, p-value)')\n",
    "print('Time:', '\\t', stats.jarque_bera(time_returns))\n",
    "print('Tick:', '\\t', stats.jarque_bera(tick_returns))\n",
    "print('Volume: ', stats.jarque_bera(volume_returns))\n",
    "print('Dollar: ', stats.jarque_bera(dollar_returns))\n",
    "print('Norm dist:', '\\t', stats.jarque_bera(norm_dist))"
   ]
  },
  {
   "cell_type": "code",
   "execution_count": 29,
   "metadata": {},
   "outputs": [
    {
     "data": {
      "image/png": "[encoded data removed]",
      "text/plain": [
       "<Figure size 1152x864 with 1 Axes>"
      ]
     },
     "metadata": {
      "needs_background": "light"
     },
     "output_type": "display_data"
    }
   ],
   "source": [
    "# Calculate the differences\n",
    "time_diff = time_returns\n",
    "tick_diff = tick_returns\n",
    "volume_diff = volume_returns\n",
    "dollar_diff = dollar_returns\n",
    "\n",
    "# Standardize the data\n",
    "time_standard = (time_diff - time_diff.mean()) / time_diff.std()\n",
    "tick_standard = (tick_diff - tick_diff.mean()) / tick_diff.std()\n",
    "volume_standard = (volume_diff - volume_diff.mean()) / volume_diff.std()\n",
    "dollar_standard = (dollar_diff - dollar_diff.mean()) / dollar_diff.std()\n",
    "\n",
    "# Plot the Distributions\n",
    "plt.figure(figsize=(16,12))\n",
    "sns.kdeplot(time_standard, label=\"Time\", color='darkred')\n",
    "sns.kdeplot(tick_standard, label=\"Tick\", color='darkblue')\n",
    "sns.kdeplot(volume_standard, label=\"Volume\", color='green')\n",
    "sns.kdeplot(dollar_standard, label=\"Dollar\", linewidth=2, color='darkcyan')\n",
    "sns.kdeplot(np.random.normal(size=1000000), label=\"Normal\", color='black', linestyle=\"--\")\n",
    "\n",
    "plt.xticks(range(-5, 6))\n",
    "plt.legend(loc=8, ncol=5)\n",
    "plt.title('Exhibit 1 - Partial recovery of Normality through a price sampling process \\nsubordinated to a volume, tick, dollar clock',\n",
    "          loc='center', fontsize=20, fontweight=\"bold\", fontname=\"Times New Roman\")\n",
    "plt.xlim(-5, 5)\n",
    "plt.show()"
   ]
  },
  {
   "cell_type": "markdown",
   "metadata": {},
   "source": [
    "---\n",
    "\n",
    "## Conclusion\n",
    "\n",
    "The following notebook showed how the mlfinlab package could be used to create new financial data structures that have better statistical properties. The same work can be extended to the information-driven bars which are included in the package. The following links to a notebook that analyzes the properties of [Imbalance Bars](https://github.com/hudson-and-thames/research/blob/master/Chapter2/2019-04-11_OP_Dollar-Imbalance-Bars.ipynb).\n",
    "\n",
    "If you enjoyed this notebook then please be sure to star our repo!\n",
    "* [mlfinlab](https://github.com/hudson-and-thames/mlfinlab)\n",
    "* [research](https://github.com/hudson-and-thames/research)"
   ]
  }
 ],
 "metadata": {
  "kernelspec": {
   "display_name": "Python 3",
   "language": "python",
   "name": "python3"
  },
  "language_info": {
   "codemirror_mode": {
    "name": "ipython",
    "version": 3
   },
   "file_extension": ".py",
   "mimetype": "text/x-python",
   "name": "python",
   "nbconvert_exporter": "python",
   "pygments_lexer": "ipython3",
   "version": "3.7.3"
  }
 },
 "nbformat": 4,
 "nbformat_minor": 2
}
